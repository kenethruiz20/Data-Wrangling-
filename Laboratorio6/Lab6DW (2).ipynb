{
 "cells": [
  {
   "cell_type": "code",
   "execution_count": 1,
   "id": "fe7b8e91",
   "metadata": {},
   "outputs": [],
   "source": [
    "#LABORATORIO 6\n",
    "##Keneth Ruiz\n",
    "###20210104\n",
    "import re\n",
    "import numpy as np\n",
    "import pandas as pd"
   ]
  },
  {
   "cell_type": "code",
   "execution_count": 5,
   "id": "ebbb99e9",
   "metadata": {},
   "outputs": [
    {
     "name": "stdout",
     "output_type": "stream",
     "text": [
      "['P115GKR']\n"
     ]
    }
   ],
   "source": [
    "###1.Genere una expresión regular que sea capaz de detectar las placas de un vehiculo particular guatemalteco.\n",
    "placas = ['P115GKR',\n",
    "          'C516DJGH',\n",
    "          'M022BSM',\n",
    "          'U153BMR']\n",
    "\n",
    "r = re.compile('[P][\\d][\\d][\\d][A-Z][A-Z][A-Z]')\n",
    "placas_result = list(filter(r.match,placas))\n",
    "print(placas_result)"
   ]
  },
  {
   "cell_type": "code",
   "execution_count": 6,
   "id": "72cd8385",
   "metadata": {},
   "outputs": [
    {
     "name": "stdout",
     "output_type": "stream",
     "text": [
      "['Example1.pdf', 'carro_del_amigo.jpg']\n"
     ]
    }
   ],
   "source": [
    "###2.Genere una expresión regular que valide si un archivo es de tipo .pdf o jpg.\n",
    "###a. Example1.pdf, test4.PDF, carro_del_amigo.jpg, realmadrid.JPG\n",
    "archivos = ['Example1.pdf',\n",
    "          'test4.PDF',\n",
    "          'carro_del_amigo.jpg',\n",
    "          'realmadrid.JPG']\n",
    "\n",
    "r = re.compile('[\\w]+[\\.](pdf|jpg)')\n",
    "archivos_result = list(filter(r.match,archivos))\n",
    "print(archivos_result)"
   ]
  },
  {
   "cell_type": "code",
   "execution_count": 7,
   "id": "2d27c35b",
   "metadata": {},
   "outputs": [
    {
     "name": "stdout",
     "output_type": "stream",
     "text": [
      "['^ABC$fdjf', 'H&0t$3wes']\n"
     ]
    }
   ],
   "source": [
    "###3.Genere una expresión regular para validar contraseñas de correo. \n",
    "###NOTA: Una contraseña de correo debe contener por lo menos 8 caracteres, una letra mayúscula y un carácter especial.\n",
    "password = [ '^ABC$fdjf', 'H&0t$3wes']\n",
    "\n",
    "r = re.compile('^(?=.*?[A-Z])(?=.*?[#?!@$%^&*-]).{8,}$')\n",
    "password_result = list(filter(r.match,password))\n",
    "print(password_result)"
   ]
  },
  {
   "cell_type": "code",
   "execution_count": 9,
   "id": "e85fa41a",
   "metadata": {},
   "outputs": [
    {
     "name": "stdout",
     "output_type": "stream",
     "text": [
      "['19002324', '23005987', '30008970']\n"
     ]
    }
   ],
   "source": [
    "###4.Cree una expresión regular para validar un numero de carnet de la Universidad Galileo, por ejemplo 19002324 donde los primeros dos dígitos representan el año en el que el alumno se inscribió los cuales pueden variar desde el 01 (año 2001) hasta el 30 (año 2030). Los siguientes dos dígitos son cero (00) los cuales van por default y los últimos cuatro dígitos son un número que va desde el 1110 hasta el 8970. Para dar su respuesta utilice la notación de expresiones regulares.\n",
    "carnets = ['19002324','23005987', '30008970','31001110']\n",
    "\n",
    "#('[0-3][0-9]00[1110-8970]')\n",
    "#(0|1|2|3)[\\d][00][1-8][\\d][1-7][\\d]\n",
    "r = re.compile('((0[1-9])|((1|2)[0-9])|(30))00[1110-8970]')\n",
    "carnets_result = list(filter(r.match,carnets))\n",
    "print(carnets_result)"
   ]
  },
  {
   "cell_type": "code",
   "execution_count": 10,
   "id": "d6ad0415",
   "metadata": {},
   "outputs": [
    {
     "name": "stdout",
     "output_type": "stream",
     "text": [
      "['pit', 'spot', 'slap two', 'respite']\n"
     ]
    }
   ],
   "source": [
    "###5.Cree una expresión regular que encuentre todas las palabras de la primera línea, pero ninguna de la segunda. a. pit, spot, spate, slap two, respite b. pt,Pot,peat,part\n",
    "palabras = ['pit', 'spot', 'slap two', 'respite',\n",
    "          'pt', 'Pot', 'peat', 'part']\n",
    "r = re.compile('(s?(l|p)(a|o|i)(t|p)e?)|(r)[\\w]')\n",
    "palabras_result = list(filter(r.match,palabras))\n",
    "print(palabras_result)"
   ]
  },
  {
   "cell_type": "code",
   "execution_count": 13,
   "id": "aa098aaa",
   "metadata": {},
   "outputs": [
    {
     "name": "stdout",
     "output_type": "stream",
     "text": [
      "['+50254821151', '5024210-7640']\n"
     ]
    }
   ],
   "source": [
    "###6. Cree una expresión regular para obtener los números telefónicos de Guatemala. Estos pueden contener al inicio +502 o 502, pueden estar separados por un espacio en blanco o un guión o juntos. Notar que los números telefónicos pueden empezar únicamente con 4,5,6 o 2. a. +50254821151, 4210-7640, 52018150, 2434 6854, 11234569, 50211234578\n",
    "#Prefijo: 502 o +502    #Empieza con 4,5,6 o 2 \n",
    "numbers = ['+50234318695'  , \"+50254821151\" , '5024210-7640', '50211234578']\n",
    "r = re.compile('\\+?502( |-)?(4|5|6|2)')\n",
    "numbers_result = list(filter(r.match,numbers))\n",
    "print(numbers_result)\n"
   ]
  },
  {
   "cell_type": "code",
   "execution_count": null,
   "id": "14261fbb",
   "metadata": {},
   "outputs": [],
   "source": []
  },
  {
   "cell_type": "code",
   "execution_count": null,
   "id": "0a33aeaf",
   "metadata": {},
   "outputs": [],
   "source": []
  }
 ],
 "metadata": {
  "kernelspec": {
   "display_name": "Python 3 (ipykernel)",
   "language": "python",
   "name": "python3"
  },
  "language_info": {
   "codemirror_mode": {
    "name": "ipython",
    "version": 3
   },
   "file_extension": ".py",
   "mimetype": "text/x-python",
   "name": "python",
   "nbconvert_exporter": "python",
   "pygments_lexer": "ipython3",
   "version": "3.8.17"
  }
 },
 "nbformat": 4,
 "nbformat_minor": 5
}
